{
 "cells": [
  {
   "cell_type": "code",
   "execution_count": null,
   "metadata": {},
   "outputs": [],
   "source": [
    "import os\n",
    "import html\n",
    "import pandas as pd\n",
    "import latentscope as ls"
   ]
  },
  {
   "cell_type": "code",
   "execution_count": null,
   "metadata": {},
   "outputs": [],
   "source": [
    "# Download the csv file from Kaggle and unzip it\n",
    "# https://www.kaggle.com/datasets/oktayozturk010/reddit-dad-jokes?select=reddit_dadjokes.csv\n",
    "df = pd.read_csv(\"~/Downloads/reddit_dadjokes.csv\")"
   ]
  },
  {
   "cell_type": "code",
   "execution_count": null,
   "metadata": {},
   "outputs": [],
   "source": [
    "df.head()"
   ]
  },
  {
   "cell_type": "code",
   "execution_count": null,
   "metadata": {},
   "outputs": [],
   "source": [
    "df.shape"
   ]
  },
  {
   "cell_type": "code",
   "execution_count": null,
   "metadata": {},
   "outputs": [],
   "source": [
    "# filter data to score > 5 and jokes that don't contain URLs\n",
    "score = (df['score'] > 5)\n",
    "imgur = (~df['joke'].str.contains(\"imgur\"))\n",
    "http = (~df['joke'].str.contains(\"http:\"))\n",
    "https = (~df['joke'].str.contains(\"https:\"))\n",
    "non_empty_jokes = (~df['joke'].isnull() & ~df['joke'].eq(''))\n",
    "\n",
    "curated = df[ score & imgur & http & https & non_empty_jokes].copy()"
   ]
  },
  {
   "cell_type": "code",
   "execution_count": null,
   "metadata": {},
   "outputs": [],
   "source": [
    "# sanitize html and remove zero-width spaces, newlines and strip\n",
    "stripped = curated['joke'].apply(lambda x: html.unescape(x).replace(u'\\u200b', '').replace('\\n','').strip())"
   ]
  },
  {
   "cell_type": "code",
   "execution_count": null,
   "metadata": {},
   "outputs": [],
   "source": [
    "curated['joke'] = stripped"
   ]
  },
  {
   "cell_type": "code",
   "execution_count": null,
   "metadata": {},
   "outputs": [],
   "source": [
    "curated.shape"
   ]
  },
  {
   "cell_type": "code",
   "execution_count": null,
   "metadata": {},
   "outputs": [],
   "source": [
    "curated.head()"
   ]
  },
  {
   "cell_type": "code",
   "execution_count": null,
   "metadata": {},
   "outputs": [],
   "source": [
    "# ls.init(data_dir, openai_key=\"XXX\", together_key=\"XXX\", voyage_key=\"XXX\", cohere_key=\"XXX\", mistral_key=\"XXX\")\n",
    "ls.init(\"~/latent-scope-data\")"
   ]
  },
  {
   "cell_type": "code",
   "execution_count": null,
   "metadata": {},
   "outputs": [],
   "source": [
    "ls.ingest(\"dadabase\", curated, text_column=\"joke\")"
   ]
  },
  {
   "cell_type": "code",
   "execution_count": null,
   "metadata": {},
   "outputs": [],
   "source": [
    "import subprocess\n",
    "subprocess.Popen([\"ls-serve\"])\n",
    "# TODO: this should work instead of running the CLI command \n",
    "# but seems to conflict with jupyter for a reason i don't understand\n",
    "# ls.serve()"
   ]
  },
  {
   "cell_type": "code",
   "execution_count": null,
   "metadata": {},
   "outputs": [],
   "source": []
  }
 ],
 "metadata": {
  "kernelspec": {
   "display_name": "venv",
   "language": "python",
   "name": "python3"
  },
  "language_info": {
   "codemirror_mode": {
    "name": "ipython",
    "version": 3
   },
   "file_extension": ".py",
   "mimetype": "text/x-python",
   "name": "python",
   "nbconvert_exporter": "python",
   "pygments_lexer": "ipython3",
   "version": "3.11.0"
  }
 },
 "nbformat": 4,
 "nbformat_minor": 2
}
