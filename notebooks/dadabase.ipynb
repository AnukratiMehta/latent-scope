{
 "cells": [
  {
   "cell_type": "code",
   "execution_count": 1,
   "metadata": {},
   "outputs": [],
   "source": [
    "import os\n",
    "import pandas as pd"
   ]
  },
  {
   "cell_type": "code",
   "execution_count": 2,
   "metadata": {},
   "outputs": [],
   "source": [
    "# Download the csv file from Kaggle\n",
    "# https://www.kaggle.com/datasets/oktayozturk010/reddit-dad-jokes?select=reddit_dadjokes.csv\n",
    "df = pd.read_csv(\"~/Downloads/reddit_dadjokes.csv\")"
   ]
  },
  {
   "cell_type": "code",
   "execution_count": 3,
   "metadata": {},
   "outputs": [
    {
     "data": {
      "text/html": [
       "<div>\n",
       "<style scoped>\n",
       "    .dataframe tbody tr th:only-of-type {\n",
       "        vertical-align: middle;\n",
       "    }\n",
       "\n",
       "    .dataframe tbody tr th {\n",
       "        vertical-align: top;\n",
       "    }\n",
       "\n",
       "    .dataframe thead th {\n",
       "        text-align: right;\n",
       "    }\n",
       "</style>\n",
       "<table border=\"1\" class=\"dataframe\">\n",
       "  <thead>\n",
       "    <tr style=\"text-align: right;\">\n",
       "      <th></th>\n",
       "      <th>author</th>\n",
       "      <th>url</th>\n",
       "      <th>joke</th>\n",
       "      <th>score</th>\n",
       "      <th>date</th>\n",
       "    </tr>\n",
       "  </thead>\n",
       "  <tbody>\n",
       "    <tr>\n",
       "      <th>0</th>\n",
       "      <td>VERBERD</td>\n",
       "      <td>https://old.reddit.com/r/dadjokes/comments/rvz...</td>\n",
       "      <td>Doctor: \"So, you're telling me that you have a...</td>\n",
       "      <td>1</td>\n",
       "      <td>2022-01-04 17:16:02</td>\n",
       "    </tr>\n",
       "    <tr>\n",
       "      <th>1</th>\n",
       "      <td>MHSPres</td>\n",
       "      <td>https://old.reddit.com/r/dadjokes/comments/rvz...</td>\n",
       "      <td>A grizzly kept talking to me and annoyed me He...</td>\n",
       "      <td>1</td>\n",
       "      <td>2022-01-04 17:14:44</td>\n",
       "    </tr>\n",
       "    <tr>\n",
       "      <th>2</th>\n",
       "      <td>craftworldyt</td>\n",
       "      <td>https://old.reddit.com/r/dadjokes/comments/rvz...</td>\n",
       "      <td>I rubbed mayonnaise on my eyes Oh fuck oh shit...</td>\n",
       "      <td>1</td>\n",
       "      <td>2022-01-04 16:57:58</td>\n",
       "    </tr>\n",
       "    <tr>\n",
       "      <th>3</th>\n",
       "      <td>dynam0</td>\n",
       "      <td>https://old.reddit.com/r/dadjokes/comments/rvy...</td>\n",
       "      <td>What do you say to encourage an asteroid? Go l...</td>\n",
       "      <td>1</td>\n",
       "      <td>2022-01-04 16:41:01</td>\n",
       "    </tr>\n",
       "    <tr>\n",
       "      <th>4</th>\n",
       "      <td>aAsm321</td>\n",
       "      <td>https://old.reddit.com/r/dadjokes/comments/rvy...</td>\n",
       "      <td>They always ask me why my mood is always negat...</td>\n",
       "      <td>1</td>\n",
       "      <td>2022-01-04 16:39:49</td>\n",
       "    </tr>\n",
       "  </tbody>\n",
       "</table>\n",
       "</div>"
      ],
      "text/plain": [
       "         author                                                url  \\\n",
       "0       VERBERD  https://old.reddit.com/r/dadjokes/comments/rvz...   \n",
       "1       MHSPres  https://old.reddit.com/r/dadjokes/comments/rvz...   \n",
       "2  craftworldyt  https://old.reddit.com/r/dadjokes/comments/rvz...   \n",
       "3        dynam0  https://old.reddit.com/r/dadjokes/comments/rvy...   \n",
       "4       aAsm321  https://old.reddit.com/r/dadjokes/comments/rvy...   \n",
       "\n",
       "                                                joke  score  \\\n",
       "0  Doctor: \"So, you're telling me that you have a...      1   \n",
       "1  A grizzly kept talking to me and annoyed me He...      1   \n",
       "2  I rubbed mayonnaise on my eyes Oh fuck oh shit...      1   \n",
       "3  What do you say to encourage an asteroid? Go l...      1   \n",
       "4  They always ask me why my mood is always negat...      1   \n",
       "\n",
       "                  date  \n",
       "0  2022-01-04 17:16:02  \n",
       "1  2022-01-04 17:14:44  \n",
       "2  2022-01-04 16:57:58  \n",
       "3  2022-01-04 16:41:01  \n",
       "4  2022-01-04 16:39:49  "
      ]
     },
     "execution_count": 3,
     "metadata": {},
     "output_type": "execute_result"
    }
   ],
   "source": [
    "df.head()"
   ]
  },
  {
   "cell_type": "code",
   "execution_count": 4,
   "metadata": {},
   "outputs": [
    {
     "data": {
      "text/plain": [
       "(216328, 5)"
      ]
     },
     "execution_count": 4,
     "metadata": {},
     "output_type": "execute_result"
    }
   ],
   "source": [
    "df.shape"
   ]
  },
  {
   "cell_type": "code",
   "execution_count": 5,
   "metadata": {},
   "outputs": [],
   "source": [
    "# filter data to score > 5 and jokes that don't contain URLs\n",
    "curated = df[(df['score'] > 5) & (~df['joke'].str.contains(\"http://\"))]"
   ]
  },
  {
   "cell_type": "code",
   "execution_count": 6,
   "metadata": {},
   "outputs": [
    {
     "data": {
      "text/plain": [
       "(53170, 5)"
      ]
     },
     "execution_count": 6,
     "metadata": {},
     "output_type": "execute_result"
    }
   ],
   "source": [
    "curated.shape"
   ]
  },
  {
   "cell_type": "code",
   "execution_count": 12,
   "metadata": {},
   "outputs": [
    {
     "data": {
      "text/html": [
       "<div>\n",
       "<style scoped>\n",
       "    .dataframe tbody tr th:only-of-type {\n",
       "        vertical-align: middle;\n",
       "    }\n",
       "\n",
       "    .dataframe tbody tr th {\n",
       "        vertical-align: top;\n",
       "    }\n",
       "\n",
       "    .dataframe thead th {\n",
       "        text-align: right;\n",
       "    }\n",
       "</style>\n",
       "<table border=\"1\" class=\"dataframe\">\n",
       "  <thead>\n",
       "    <tr style=\"text-align: right;\">\n",
       "      <th></th>\n",
       "      <th>author</th>\n",
       "      <th>url</th>\n",
       "      <th>joke</th>\n",
       "      <th>score</th>\n",
       "      <th>date</th>\n",
       "    </tr>\n",
       "  </thead>\n",
       "  <tbody>\n",
       "    <tr>\n",
       "      <th>4298</th>\n",
       "      <td>8005882300-</td>\n",
       "      <td>https://old.reddit.com/r/dadjokes/comments/rca...</td>\n",
       "      <td>What do you call a cop in a bed? (Lord help me...</td>\n",
       "      <td>15</td>\n",
       "      <td>2021-12-09 05:46:44</td>\n",
       "    </tr>\n",
       "    <tr>\n",
       "      <th>4299</th>\n",
       "      <td>Awkward-Ad6455</td>\n",
       "      <td>https://old.reddit.com/r/dadjokes/comments/rca...</td>\n",
       "      <td>What item of clothing does an asthmatic person...</td>\n",
       "      <td>7</td>\n",
       "      <td>2021-12-09 05:46:32</td>\n",
       "    </tr>\n",
       "    <tr>\n",
       "      <th>4300</th>\n",
       "      <td>DatabaseSolid</td>\n",
       "      <td>https://old.reddit.com/r/dadjokes/comments/rca...</td>\n",
       "      <td>When wearing a bikini, women reveal 90 % of th...</td>\n",
       "      <td>16</td>\n",
       "      <td>2021-12-09 05:19:39</td>\n",
       "    </tr>\n",
       "    <tr>\n",
       "      <th>4306</th>\n",
       "      <td>dmstealth</td>\n",
       "      <td>https://old.reddit.com/r/dadjokes/comments/rc9...</td>\n",
       "      <td>People who don’t use blinkers can go straight ...</td>\n",
       "      <td>10</td>\n",
       "      <td>2021-12-09 04:09:38</td>\n",
       "    </tr>\n",
       "    <tr>\n",
       "      <th>4311</th>\n",
       "      <td>enzotoretto</td>\n",
       "      <td>https://old.reddit.com/r/dadjokes/comments/rc8...</td>\n",
       "      <td>Why do ducks have feathers? To cover their but...</td>\n",
       "      <td>17</td>\n",
       "      <td>2021-12-09 03:23:00</td>\n",
       "    </tr>\n",
       "  </tbody>\n",
       "</table>\n",
       "</div>"
      ],
      "text/plain": [
       "              author                                                url  \\\n",
       "4298     8005882300-  https://old.reddit.com/r/dadjokes/comments/rca...   \n",
       "4299  Awkward-Ad6455  https://old.reddit.com/r/dadjokes/comments/rca...   \n",
       "4300   DatabaseSolid  https://old.reddit.com/r/dadjokes/comments/rca...   \n",
       "4306       dmstealth  https://old.reddit.com/r/dadjokes/comments/rc9...   \n",
       "4311     enzotoretto  https://old.reddit.com/r/dadjokes/comments/rc8...   \n",
       "\n",
       "                                                   joke  score  \\\n",
       "4298  What do you call a cop in a bed? (Lord help me...     15   \n",
       "4299  What item of clothing does an asthmatic person...      7   \n",
       "4300  When wearing a bikini, women reveal 90 % of th...     16   \n",
       "4306  People who don’t use blinkers can go straight ...     10   \n",
       "4311  Why do ducks have feathers? To cover their but...     17   \n",
       "\n",
       "                     date  \n",
       "4298  2021-12-09 05:46:44  \n",
       "4299  2021-12-09 05:46:32  \n",
       "4300  2021-12-09 05:19:39  \n",
       "4306  2021-12-09 04:09:38  \n",
       "4311  2021-12-09 03:23:00  "
      ]
     },
     "execution_count": 12,
     "metadata": {},
     "output_type": "execute_result"
    }
   ],
   "source": [
    "curated.head()"
   ]
  },
  {
   "cell_type": "code",
   "execution_count": 7,
   "metadata": {},
   "outputs": [],
   "source": [
    "directory = \"../data/dadabase\""
   ]
  },
  {
   "cell_type": "code",
   "execution_count": 8,
   "metadata": {},
   "outputs": [],
   "source": [
    "if not os.path.exists(directory):\n",
    "    os.makedirs(directory)"
   ]
  },
  {
   "cell_type": "code",
   "execution_count": 11,
   "metadata": {},
   "outputs": [],
   "source": [
    "curated.to_parquet(os.path.join(directory, \"input.parquet\"), index=True)"
   ]
  },
  {
   "cell_type": "code",
   "execution_count": null,
   "metadata": {},
   "outputs": [],
   "source": []
  },
  {
   "cell_type": "code",
   "execution_count": null,
   "metadata": {},
   "outputs": [],
   "source": []
  }
 ],
 "metadata": {
  "kernelspec": {
   "display_name": "venv",
   "language": "python",
   "name": "python3"
  },
  "language_info": {
   "codemirror_mode": {
    "name": "ipython",
    "version": 3
   },
   "file_extension": ".py",
   "mimetype": "text/x-python",
   "name": "python",
   "nbconvert_exporter": "python",
   "pygments_lexer": "ipython3",
   "version": "3.11.0"
  }
 },
 "nbformat": 4,
 "nbformat_minor": 2
}
