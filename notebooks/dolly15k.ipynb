{
 "cells": [
  {
   "cell_type": "code",
   "execution_count": 1,
   "metadata": {},
   "outputs": [],
   "source": [
    "import pandas as pd\n",
    "import latentscope as ls"
   ]
  },
  {
   "cell_type": "code",
   "execution_count": 2,
   "metadata": {},
   "outputs": [],
   "source": [
    "# https://huggingface.co/datasets/databricks/databricks-dolly-15k\n",
    "df = pd.read_parquet(\"https://huggingface.co/api/datasets/databricks/databricks-dolly-15k/parquet/default/train/0.parquet\")"
   ]
  },
  {
   "cell_type": "code",
   "execution_count": 3,
   "metadata": {},
   "outputs": [
    {
     "data": {
      "text/html": [
       "<div>\n",
       "<style scoped>\n",
       "    .dataframe tbody tr th:only-of-type {\n",
       "        vertical-align: middle;\n",
       "    }\n",
       "\n",
       "    .dataframe tbody tr th {\n",
       "        vertical-align: top;\n",
       "    }\n",
       "\n",
       "    .dataframe thead th {\n",
       "        text-align: right;\n",
       "    }\n",
       "</style>\n",
       "<table border=\"1\" class=\"dataframe\">\n",
       "  <thead>\n",
       "    <tr style=\"text-align: right;\">\n",
       "      <th></th>\n",
       "      <th>instruction</th>\n",
       "      <th>context</th>\n",
       "      <th>response</th>\n",
       "      <th>category</th>\n",
       "    </tr>\n",
       "  </thead>\n",
       "  <tbody>\n",
       "    <tr>\n",
       "      <th>0</th>\n",
       "      <td>When did Virgin Australia start operating?</td>\n",
       "      <td>Virgin Australia, the trading name of Virgin A...</td>\n",
       "      <td>Virgin Australia commenced services on 31 Augu...</td>\n",
       "      <td>closed_qa</td>\n",
       "    </tr>\n",
       "    <tr>\n",
       "      <th>1</th>\n",
       "      <td>Which is a species of fish? Tope or Rope</td>\n",
       "      <td></td>\n",
       "      <td>Tope</td>\n",
       "      <td>classification</td>\n",
       "    </tr>\n",
       "    <tr>\n",
       "      <th>2</th>\n",
       "      <td>Why can camels survive for long without water?</td>\n",
       "      <td></td>\n",
       "      <td>Camels use the fat in their humps to keep them...</td>\n",
       "      <td>open_qa</td>\n",
       "    </tr>\n",
       "    <tr>\n",
       "      <th>3</th>\n",
       "      <td>Alice's parents have three daughters: Amy, Jes...</td>\n",
       "      <td></td>\n",
       "      <td>The name of the third daughter is Alice</td>\n",
       "      <td>open_qa</td>\n",
       "    </tr>\n",
       "    <tr>\n",
       "      <th>4</th>\n",
       "      <td>When was Tomoaki Komorida born?</td>\n",
       "      <td>Komorida was born in Kumamoto Prefecture on Ju...</td>\n",
       "      <td>Tomoaki Komorida was born on July 10,1981.</td>\n",
       "      <td>closed_qa</td>\n",
       "    </tr>\n",
       "  </tbody>\n",
       "</table>\n",
       "</div>"
      ],
      "text/plain": [
       "                                         instruction  \\\n",
       "0         When did Virgin Australia start operating?   \n",
       "1           Which is a species of fish? Tope or Rope   \n",
       "2     Why can camels survive for long without water?   \n",
       "3  Alice's parents have three daughters: Amy, Jes...   \n",
       "4                    When was Tomoaki Komorida born?   \n",
       "\n",
       "                                             context  \\\n",
       "0  Virgin Australia, the trading name of Virgin A...   \n",
       "1                                                      \n",
       "2                                                      \n",
       "3                                                      \n",
       "4  Komorida was born in Kumamoto Prefecture on Ju...   \n",
       "\n",
       "                                            response        category  \n",
       "0  Virgin Australia commenced services on 31 Augu...       closed_qa  \n",
       "1                                               Tope  classification  \n",
       "2  Camels use the fat in their humps to keep them...         open_qa  \n",
       "3            The name of the third daughter is Alice         open_qa  \n",
       "4         Tomoaki Komorida was born on July 10,1981.       closed_qa  "
      ]
     },
     "execution_count": 3,
     "metadata": {},
     "output_type": "execute_result"
    }
   ],
   "source": [
    "df.head()"
   ]
  },
  {
   "cell_type": "code",
   "execution_count": 4,
   "metadata": {},
   "outputs": [
    {
     "name": "stdout",
     "output_type": "stream",
     "text": [
      "Initialized env with data directory at /Users/enjalot/latent-scope-data\n"
     ]
    }
   ],
   "source": [
    "ls.init(\"~/latent-scope-data\")"
   ]
  },
  {
   "cell_type": "code",
   "execution_count": 5,
   "metadata": {},
   "outputs": [
    {
     "name": "stdout",
     "output_type": "stream",
     "text": [
      "DATA DIR /Users/enjalot/latent-scope-data\n",
      "DIRECTORY /Users/enjalot/latent-scope-data/dolly15k\n",
      "                                         instruction  \\\n",
      "0         When did Virgin Australia start operating?   \n",
      "1           Which is a species of fish? Tope or Rope   \n",
      "2     Why can camels survive for long without water?   \n",
      "3  Alice's parents have three daughters: Amy, Jes...   \n",
      "4                    When was Tomoaki Komorida born?   \n",
      "\n",
      "                                             context  \\\n",
      "0  Virgin Australia, the trading name of Virgin A...   \n",
      "1                                                      \n",
      "2                                                      \n",
      "3                                                      \n",
      "4  Komorida was born in Kumamoto Prefecture on Ju...   \n",
      "\n",
      "                                            response        category  \n",
      "0  Virgin Australia commenced services on 31 Augu...       closed_qa  \n",
      "1                                               Tope  classification  \n",
      "2  Camels use the fat in their humps to keep them...         open_qa  \n",
      "3            The name of the third daughter is Alice         open_qa  \n",
      "4         Tomoaki Komorida was born on July 10,1981.       closed_qa  \n",
      "                                             instruction  \\\n",
      "15006                         How do i accept the change   \n",
      "15007                What is a laser and who created it?   \n",
      "15008  What is the difference between a road bike and...   \n",
      "15009  How does GIS help in the real estate investmen...   \n",
      "15010                               What is the Masters?   \n",
      "\n",
      "                                                 context  \\\n",
      "15006                                                      \n",
      "15007  A laser is a device that emits light through a...   \n",
      "15008                                                      \n",
      "15009                                                      \n",
      "15010                                                      \n",
      "\n",
      "                                                response       category  \n",
      "15006          Embrace the change and see the difference  brainstorming  \n",
      "15007  A laser is a device that emits light from an e...  summarization  \n",
      "15008  Road bikes are built to be ridden on asphalt a...        open_qa  \n",
      "15009  Real estate investors depend on precise, accur...     general_qa  \n",
      "15010  The Masters Tournament is a golf tournament he...     general_qa  \n",
      "Index(['instruction', 'context', 'response', 'category'], dtype='object')\n",
      "wrote /Users/enjalot/latent-scope-data/dolly15k/input.parquet\n"
     ]
    }
   ],
   "source": [
    "ls.ingest(\"dolly15k\", df, \"instruction\")"
   ]
  },
  {
   "cell_type": "code",
   "execution_count": null,
   "metadata": {},
   "outputs": [],
   "source": []
  }
 ],
 "metadata": {
  "kernelspec": {
   "display_name": "testenv",
   "language": "python",
   "name": "python3"
  },
  "language_info": {
   "codemirror_mode": {
    "name": "ipython",
    "version": 3
   },
   "file_extension": ".py",
   "mimetype": "text/x-python",
   "name": "python",
   "nbconvert_exporter": "python",
   "pygments_lexer": "ipython3",
   "version": "3.11.0"
  }
 },
 "nbformat": 4,
 "nbformat_minor": 2
}
